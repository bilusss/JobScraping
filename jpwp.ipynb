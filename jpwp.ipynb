{
 "cells": [
  {
   "metadata": {},
   "cell_type": "markdown",
   "source": "# Współbieżność przykład",
   "id": "a32ebbc2419b50ef"
  },
  {
   "metadata": {},
   "cell_type": "markdown",
   "source": [
    "### NORMALNIE\n",
    "Poniższy kod demonstruje synchroniczne wykonywanie operacji I/O w Pythonie. Funkcja `fetch_data(id)` blokuje działanie programu na 5 sekund dla każdej operacji, przez co każde wywołanie odbywa się sekwencyjnie. Całość zajmuje około 15 sekund, ponieważ kolejne zadania nie mogą rozpocząć się przed zakończeniem poprzednich. Znaczniki czasowe pokazują, że każda operacja zaczyna się dopiero po zakończeniu wcześniejszej."
   ],
   "id": "8a8f280bd9ad9432"
  },
  {
   "metadata": {
    "ExecuteTime": {
     "end_time": "2025-03-30T18:46:29.745852Z",
     "start_time": "2025-03-30T18:46:14.700831Z"
    }
   },
   "cell_type": "code",
   "source": [
    "import time\n",
    "\n",
    "def fetch_data(id):\n",
    "    print(f\"({time.time()}) Starting fetch {id}\")\n",
    "    time.sleep(5)  # Symulacja operacji I/O\n",
    "    print(f\"({time.time()}) Finished fetch {id}\")\n",
    "    return id * 2\n",
    "\n",
    "def main():\n",
    "    results = [fetch_data(1), fetch_data(2), fetch_data(3)]\n",
    "    print(f\"({time.time()}) Results: {results}\")\n",
    "\n",
    "if __name__ == \"__main__\":\n",
    "    main()"
   ],
   "id": "6401a51a3974f4d8",
   "outputs": [
    {
     "name": "stdout",
     "output_type": "stream",
     "text": [
      "(1743360374.7231412) Starting fetch 1\n",
      "(1743360379.728502) Finished fetch 1\n",
      "(1743360379.72864) Starting fetch 2\n",
      "(1743360384.7337458) Finished fetch 2\n",
      "(1743360384.7338939) Starting fetch 3\n",
      "(1743360389.739077) Finished fetch 3\n",
      "(1743360389.7393138) Results: [2, 4, 6]\n"
     ]
    }
   ],
   "execution_count": 13
  },
  {
   "metadata": {},
   "cell_type": "markdown",
   "source": [
    "### WSPÓŁBIEŻNOŚĆ\n",
    "\n",
    "Inaczej odbywa się to dla poniższego kodu, który demonstruje asynchroniczne programowanie w Pythonie przy użyciu `asyncio`. Funkcja `fetch_data(id)` symuluje operację I/O, czekając 5 sekund i zwracając wynik, a `asyncio.gather()` uruchamia ją równolegle dla trzech identyfikatorów. Dzięki temu całość trwa około 5 sekund zamiast 15 jak w podejściu synchronicznym. Znaczniki czasowe pokazują, że wszystkie operacje zaczynają się niemal jednocześnie i kończą po tym samym czasie."
   ],
   "id": "74e2a8a2e95b1342"
  },
  {
   "metadata": {
    "ExecuteTime": {
     "end_time": "2025-03-30T18:46:34.788547Z",
     "start_time": "2025-03-30T18:46:29.776687Z"
    }
   },
   "cell_type": "code",
   "source": [
    "import asyncio\n",
    "import time\n",
    "\n",
    "async def fetch_data(id):\n",
    "    print(f\"({time.time()}) Starting fetch {id}\")\n",
    "    await asyncio.sleep(5)\n",
    "    print(f\"({time.time()}) Finished fetch {id}\")\n",
    "    return id * 2\n",
    "\n",
    "async def main():\n",
    "    results = await asyncio.gather(fetch_data(1), fetch_data(2), fetch_data(3))\n",
    "    print(f\"({time.time()}) Results: {results}\")\n",
    "\n",
    "#asyncio.run(main())\n",
    "await main() # dzialajaca wersja dla ipynb notebook"
   ],
   "id": "87d932cd65918b54",
   "outputs": [
    {
     "name": "stdout",
     "output_type": "stream",
     "text": [
      "(1743360389.782794) Starting fetch 1\n",
      "(1743360389.7830431) Starting fetch 2\n",
      "(1743360389.783067) Starting fetch 3\n",
      "(1743360394.78451) Finished fetch 1\n",
      "(1743360394.7846751) Finished fetch 2\n",
      "(1743360394.784702) Finished fetch 3\n",
      "(1743360394.784844) Results: [2, 4, 6]\n"
     ]
    }
   ],
   "execution_count": 14
  },
  {
   "metadata": {},
   "cell_type": "markdown",
   "source": "# Problemy współbieżności",
   "id": "6acee10fd05afe17"
  },
  {
   "metadata": {},
   "cell_type": "markdown",
   "source": [
    "## Race Conditions (Warunki wyścigu)\n",
    "\n",
    "Warunek wyścigu występuje, gdy wiele wątków modyfikuje współdzielony zasób w niekontrolowany sposób, a wynik zależy od kolejności ich wykonania."
   ],
   "id": "b4cf9bcc4678c391"
  },
  {
   "metadata": {
    "ExecuteTime": {
     "end_time": "2025-03-30T18:46:35.794109Z",
     "start_time": "2025-03-30T18:46:34.808289Z"
    }
   },
   "cell_type": "code",
   "source": [
    "import threading\n",
    "\n",
    "# Współdzielony zasób\n",
    "counter = 0\n",
    "\n",
    "def increment():\n",
    "    global counter\n",
    "    for _ in range(10000000):\n",
    "        # Operacja nieatomowa: odczyt -> modyfikacja -> zapis\n",
    "        temp = counter\n",
    "        temp += 1\n",
    "        counter = temp\n",
    "\n",
    "# Tworzenie dwóch wątków\n",
    "thread1 = threading.Thread(target=increment)\n",
    "thread2 = threading.Thread(target=increment)\n",
    "\n",
    "# Uruchomienie wątków\n",
    "thread1.start()\n",
    "thread2.start()\n",
    "\n",
    "# Czekanie na zakończenie\n",
    "thread1.join()\n",
    "thread2.join()\n",
    "\n",
    "print(f\"Oczekiwana wartość: 20000000, Rzeczywista wartość: {counter}\")"
   ],
   "id": "a608e5585a195515",
   "outputs": [
    {
     "name": "stdout",
     "output_type": "stream",
     "text": [
      "Oczekiwana wartość: 20000000, Rzeczywista wartość: 13712271\n"
     ]
    }
   ],
   "execution_count": 15
  },
  {
   "metadata": {},
   "cell_type": "markdown",
   "source": [
    "### Wyjaśnienie:\n",
    "\n",
    "Dwa wątki jednocześnie zwiększają zmienną counter o 100000 każda.\n",
    "Bez synchronizacji operacja `temp = counter; temp += 1; counter = temp` nie jest atomowa – wątki mogą nadpisywać swoje zmiany.\n",
    "Oczekujemy 200000, ale wynik będzie różny przy każdym uruchomieniu (np. 187432), bo wątki \"ścigają się\" przy zapisie.\n",
    "\n",
    "\n",
    "    **Uruchom kod kilka razy – za każdym razem wynik będzie inny i zwykle mniejszy niż 200000**"
   ],
   "id": "b8b7c445f53d2f72"
  },
  {
   "metadata": {},
   "cell_type": "markdown",
   "source": [
    "### Rozwiązanie:\n",
    "Dodaj `threading.Lock()` :"
   ],
   "id": "74eef78a0eb5a726"
  },
  {
   "metadata": {
    "jupyter": {
     "is_executing": true
    },
    "ExecuteTime": {
     "start_time": "2025-03-30T18:47:26.999555Z"
    }
   },
   "cell_type": "code",
   "source": [
    "import threading\n",
    "\n",
    "# Współdzielony zasób\n",
    "counter = 0\n",
    "\n",
    "lock = threading.Lock()\n",
    "def increment():\n",
    "    global counter\n",
    "    for _ in range(10000000):\n",
    "        with lock:\n",
    "            temp = counter\n",
    "            temp += 1\n",
    "            counter = temp\n",
    "\n",
    "# Tworzenie dwóch wątków\n",
    "thread1 = threading.Thread(target=increment)\n",
    "thread2 = threading.Thread(target=increment)\n",
    "\n",
    "# Uruchomienie wątków\n",
    "thread1.start()\n",
    "thread2.start()\n",
    "\n",
    "# Czekanie na zakończenie\n",
    "thread1.join()\n",
    "thread2.join()\n",
    "\n",
    "print(f\"Oczekiwana wartość: 20000000, Rzeczywista wartość: {counter}\")"
   ],
   "id": "f47610245f555d99",
   "outputs": [],
   "execution_count": null
  },
  {
   "metadata": {},
   "cell_type": "markdown",
   "source": "## Deadlocks (Zakleszczenie)",
   "id": "d6596bb85fecfcbe"
  },
  {
   "metadata": {},
   "cell_type": "markdown",
   "source": "Zakleszczenie występuje, gdy dwa (lub więcej) wątki blokują się nawzajem, czekając na zasoby, które drugi wątek trzyma.",
   "id": "67139655d20f9370"
  },
  {
   "metadata": {
    "ExecuteTime": {
     "end_time": "2025-03-30T18:47:09.940282Z",
     "start_time": "2025-03-30T15:48:26.880437Z"
    }
   },
   "cell_type": "code",
   "source": [
    "import threading\n",
    "import time\n",
    "\n",
    "# Dwa zasoby (blokady)\n",
    "lock1 = threading.Lock()\n",
    "lock2 = threading.Lock()\n",
    "\n",
    "def thread1_task():\n",
    "    print(\"\\nWątek 1: Próbuję zająć lock1\")\n",
    "    with lock1:\n",
    "        time.sleep(1)  # Symulacja pracy\n",
    "        print(\"\\nWątek 1: Mam lock1, próbuję zająć lock2\")\n",
    "        with lock2:\n",
    "            print(\"\\nWątek 1: Mam oba locki!\")\n",
    "\n",
    "def thread2_task():\n",
    "    print(\"\\nWątek 2: Próbuję zająć lock2\")\n",
    "    with lock2:\n",
    "        time.sleep(1)  # Symulacja pracy\n",
    "        print(\"\\nWątek 2: Mam lock2, próbuję zająć lock1\")\n",
    "        with lock1:\n",
    "            print(\"\\nWątek 2: Mam oba locki!\")\n",
    "\n",
    "# Tworzenie wątków\n",
    "thread1 = threading.Thread(target=thread1_task)\n",
    "thread2 = threading.Thread(target=thread2_task)\n",
    "\n",
    "# Uruchomienie\n",
    "thread1.start()\n",
    "thread2.start()\n",
    "\n",
    "# Czekanie na zakończenie (nigdy się nie zakończy)\n",
    "thread1.join()\n",
    "thread2.join()\n",
    "\n",
    "print(\"Koniec programu\")  # Nie wyświetli się"
   ],
   "id": "b766c1fcc014703f",
   "outputs": [
    {
     "name": "stdout",
     "output_type": "stream",
     "text": [
      "\n",
      "Wątek 1: Próbuję zająć lock1\n",
      "\n",
      "Wątek 2: Próbuję zająć lock2\n",
      "\n",
      "Wątek 1: Mam lock1, próbuję zająć lock2\n",
      "Wątek 2: Mam lock2, próbuję zająć lock1\n",
      "\n"
     ]
    },
    {
     "ename": "KeyboardInterrupt",
     "evalue": "",
     "output_type": "error",
     "traceback": [
      "\u001B[0;31m---------------------------------------------------------------------------\u001B[0m",
      "\u001B[0;31mKeyboardInterrupt\u001B[0m                         Traceback (most recent call last)",
      "Cell \u001B[0;32mIn[2], line 33\u001B[0m\n\u001B[1;32m     30\u001B[0m thread2\u001B[38;5;241m.\u001B[39mstart()\n\u001B[1;32m     32\u001B[0m \u001B[38;5;66;03m# Czekanie na zakończenie (nigdy się nie zakończy)\u001B[39;00m\n\u001B[0;32m---> 33\u001B[0m \u001B[43mthread1\u001B[49m\u001B[38;5;241;43m.\u001B[39;49m\u001B[43mjoin\u001B[49m\u001B[43m(\u001B[49m\u001B[43m)\u001B[49m\n\u001B[1;32m     34\u001B[0m thread2\u001B[38;5;241m.\u001B[39mjoin()\n\u001B[1;32m     36\u001B[0m \u001B[38;5;28mprint\u001B[39m(\u001B[38;5;124m\"\u001B[39m\u001B[38;5;124mKoniec programu\u001B[39m\u001B[38;5;124m\"\u001B[39m)  \u001B[38;5;66;03m# Nie wyświetli się\u001B[39;00m\n",
      "File \u001B[0;32m/Applications/Xcode.app/Contents/Developer/Library/Frameworks/Python3.framework/Versions/3.9/lib/python3.9/threading.py:1053\u001B[0m, in \u001B[0;36mThread.join\u001B[0;34m(self, timeout)\u001B[0m\n\u001B[1;32m   1050\u001B[0m     \u001B[38;5;28;01mraise\u001B[39;00m \u001B[38;5;167;01mRuntimeError\u001B[39;00m(\u001B[38;5;124m\"\u001B[39m\u001B[38;5;124mcannot join current thread\u001B[39m\u001B[38;5;124m\"\u001B[39m)\n\u001B[1;32m   1052\u001B[0m \u001B[38;5;28;01mif\u001B[39;00m timeout \u001B[38;5;129;01mis\u001B[39;00m \u001B[38;5;28;01mNone\u001B[39;00m:\n\u001B[0;32m-> 1053\u001B[0m     \u001B[38;5;28;43mself\u001B[39;49m\u001B[38;5;241;43m.\u001B[39;49m\u001B[43m_wait_for_tstate_lock\u001B[49m\u001B[43m(\u001B[49m\u001B[43m)\u001B[49m\n\u001B[1;32m   1054\u001B[0m \u001B[38;5;28;01melse\u001B[39;00m:\n\u001B[1;32m   1055\u001B[0m     \u001B[38;5;66;03m# the behavior of a negative timeout isn't documented, but\u001B[39;00m\n\u001B[1;32m   1056\u001B[0m     \u001B[38;5;66;03m# historically .join(timeout=x) for x<0 has acted as if timeout=0\u001B[39;00m\n\u001B[1;32m   1057\u001B[0m     \u001B[38;5;28mself\u001B[39m\u001B[38;5;241m.\u001B[39m_wait_for_tstate_lock(timeout\u001B[38;5;241m=\u001B[39m\u001B[38;5;28mmax\u001B[39m(timeout, \u001B[38;5;241m0\u001B[39m))\n",
      "File \u001B[0;32m/Applications/Xcode.app/Contents/Developer/Library/Frameworks/Python3.framework/Versions/3.9/lib/python3.9/threading.py:1069\u001B[0m, in \u001B[0;36mThread._wait_for_tstate_lock\u001B[0;34m(self, block, timeout)\u001B[0m\n\u001B[1;32m   1067\u001B[0m \u001B[38;5;28;01mif\u001B[39;00m lock \u001B[38;5;129;01mis\u001B[39;00m \u001B[38;5;28;01mNone\u001B[39;00m:  \u001B[38;5;66;03m# already determined that the C code is done\u001B[39;00m\n\u001B[1;32m   1068\u001B[0m     \u001B[38;5;28;01massert\u001B[39;00m \u001B[38;5;28mself\u001B[39m\u001B[38;5;241m.\u001B[39m_is_stopped\n\u001B[0;32m-> 1069\u001B[0m \u001B[38;5;28;01melif\u001B[39;00m \u001B[43mlock\u001B[49m\u001B[38;5;241;43m.\u001B[39;49m\u001B[43macquire\u001B[49m\u001B[43m(\u001B[49m\u001B[43mblock\u001B[49m\u001B[43m,\u001B[49m\u001B[43m \u001B[49m\u001B[43mtimeout\u001B[49m\u001B[43m)\u001B[49m:\n\u001B[1;32m   1070\u001B[0m     lock\u001B[38;5;241m.\u001B[39mrelease()\n\u001B[1;32m   1071\u001B[0m     \u001B[38;5;28mself\u001B[39m\u001B[38;5;241m.\u001B[39m_stop()\n",
      "\u001B[0;31mKeyboardInterrupt\u001B[0m: "
     ]
    }
   ],
   "execution_count": 2
  },
  {
   "metadata": {},
   "cell_type": "markdown",
   "source": [
    "### Wyjaśnienie:\n",
    "\n",
    "Wątek 1 zajmuje `lock1` i czeka na `lock2`.\n",
    "Wątek 2 zajmuje `lock2` i czeka na `lock1`.\n",
    "Oba wątki czekają na siebie nawzajem – program się zawiesza (deadlock).\n",
    "\n",
    "### Jak uwidocznić:\n",
    "\n",
    "Uruchom kod – zobaczysz komunikaty o zajęciu pierwszego locka przez każdy wątek, ale program się zatrzyma i nie dojdzie do końca.\n",
    "\n",
    "### Rozwiązanie:\n",
    "Unikaj blokad krzyżowych, np. ustal kolejność zajmowania locków (oba wątki najpierw `lock1`, potem `lock2`)."
   ],
   "id": "a470a7c98b248021"
  },
  {
   "metadata": {},
   "cell_type": "markdown",
   "source": [
    "# Starvation (Zagłodzenie)\n",
    "\n",
    "Zagłodzenie występuje, gdy jeden wątek nie dostaje dostępu do zasobu, bo inne wątki mają wyższy priorytet lub ciągle go zajmują."
   ],
   "id": "b02ec81d2f06c5ad"
  },
  {
   "metadata": {
    "ExecuteTime": {
     "end_time": "2025-03-30T18:47:09.972491Z",
     "start_time": "2025-03-30T16:07:27.517498Z"
    }
   },
   "cell_type": "code",
   "source": [
    "import threading\n",
    "import time\n",
    "\n",
    "# Współdzielony zasób z blokadą\n",
    "lock = threading.Lock()\n",
    "resource_busy = False\n",
    "\n",
    "def greedy_thread(name):\n",
    "    global resource_busy\n",
    "    while True:\n",
    "        with lock:\n",
    "            if not resource_busy:\n",
    "                resource_busy = True\n",
    "                print(f\"{name}: Zajmuję zasób\")\n",
    "                time.sleep(0.5)  # Trzyma zasób przez chwilę\n",
    "                resource_busy = False\n",
    "            else:\n",
    "                time.sleep(0.01)  # Czeka, ale szybko próbuje znowu\n",
    "\n",
    "def starving_thread():\n",
    "    while True:\n",
    "        with lock:\n",
    "            if not resource_busy:\n",
    "                print(\"Wątek zagłodzony: W końcu mam zasób!\")\n",
    "                resource_busy = True\n",
    "                time.sleep(0.5)\n",
    "                resource_busy = False\n",
    "                break\n",
    "            else:\n",
    "                print(\"Wątek zagłodzony: Czekam...\")\n",
    "                time.sleep(1)  # Dłużej czeka, rzadziej próbuje\n",
    "\n",
    "# Tworzenie wątków\n",
    "greedy1 = threading.Thread(target=greedy_thread, args=(\"Greedy-1\",))\n",
    "greedy2 = threading.Thread(target=greedy_thread, args=(\"Greedy-2\",))\n",
    "starving = threading.Thread(target=starving_thread)\n",
    "\n",
    "# Uruchomienie\n",
    "greedy1.start()\n",
    "greedy2.start()\n",
    "starving.start()\n",
    "\n",
    "# Czekanie na wątek zagłodzony\n",
    "starving.join()"
   ],
   "id": "e85da1f0b26b8d46",
   "outputs": [
    {
     "name": "stdout",
     "output_type": "stream",
     "text": [
      "Greedy-1: Zajmuję zasób\n",
      "Greedy-1: Zajmuję zasób\n",
      "Greedy-1: Zajmuję zasób\n",
      "Greedy-1: Zajmuję zasób\n",
      "Greedy-2: Zajmuję zasób\n",
      "Greedy-2: Zajmuję zasób\n"
     ]
    },
    {
     "name": "stderr",
     "output_type": "stream",
     "text": [
      "Exception in thread Thread-14:\n",
      "Traceback (most recent call last):\n",
      "  File \"/Applications/Xcode.app/Contents/Developer/Library/Frameworks/Python3.framework/Versions/3.9/lib/python3.9/threading.py\", line 973, in _bootstrap_inner\n",
      "    self.run()\n",
      "  File \"/Users/bilus/PycharmProjects/testProject/.venv/lib/python3.9/site-packages/ipykernel/ipkernel.py\", line 766, in run_closure\n",
      "    _threading_Thread_run(self)\n",
      "  File \"/Applications/Xcode.app/Contents/Developer/Library/Frameworks/Python3.framework/Versions/3.9/lib/python3.9/threading.py\", line 910, in run\n",
      "    self._target(*self._args, **self._kwargs)\n",
      "  File \"/var/folders/n6/y63rmh397vd1r_5hbj7h14jm0000gn/T/ipykernel_64131/1142799397.py\", line 23, in starving_thread\n",
      "UnboundLocalError: local variable 'resource_busy' referenced before assignment\n"
     ]
    }
   ],
   "execution_count": 4
  },
  {
   "metadata": {},
   "cell_type": "markdown",
   "source": [
    "### Wyjaśnienie:\n",
    "\n",
    "Dwa \"zachłanne\" wątki (greedy_thread) szybko zajmują zasób, gdy tylko jest wolny.\n",
    "Wątek \"zagłodzony\" (starving_thread) próbuje dostać się do zasobu, ale rzadziej sprawdza jego dostępność i zwykle przegrywa z szybszymi wątkami.\n",
    "Wątek zagłodzony może czekać bardzo długo (lub nigdy nie dostać zasobu w ekstremalnych przypadkach).\n",
    "\n",
    "### Jak uwidocznić:\n",
    "\n",
    "Uruchom kod – zobaczysz, że `Greedy-1` i `Greedy-2` ciągle zajmują zasób, a \"Wątek zagłodzony\" wyświetla \"Czekam...\" przez dłuższy czas, zanim uda mu się złapać zasób.\n",
    "Rozwiązanie: Wprowadź priorytety lub mechanizmy sprawiedliwego dostępu (np. kolejkę)."
   ],
   "id": "6488f4c78b8d3c5"
  },
  {
   "metadata": {},
   "cell_type": "markdown",
   "source": "# Rozwiązania problemów",
   "id": "20fb1bc5fe65bc19"
  },
  {
   "metadata": {},
   "cell_type": "markdown",
   "source": [
    "## Mutexy i semafory\n",
    "\n",
    "Mutex (mutual exclusion) i semafory to mechanizmy synchronizacji używane do kontrolowania dostępu do współdzielonych zasobów w programowaniu wielowątkowym. Mutex pozwala tylko jednemu wątkowi na dostęp do zasobu w danym momencie, podczas gdy semafor może zezwalać na dostęp określonej liczbie wątków.\n",
    "\n",
    "Poniższy kod pokazuje, jak mutex (zaimplementowany jako `threading.Lock`) i semafor (`threading.Semaphore`) mogą być użyte do zarządzania dostępem do zasobu współdzielonego przez wiele wątków.#"
   ],
   "id": "58fe53ac5749728c"
  },
  {
   "metadata": {
    "ExecuteTime": {
     "end_time": "2025-03-30T18:47:09.977364Z",
     "start_time": "2025-03-30T18:36:51.763916Z"
    }
   },
   "cell_type": "code",
   "source": [
    "import threading\n",
    "import time\n",
    "\n",
    "# Współdzielony zasób\n",
    "counter = 0\n",
    "\n",
    "# Mutex (Lock) i Semaphore\n",
    "mutex = threading.Lock()\n",
    "semaphore = threading.Semaphore(2)  # Pozwala na 2 wątki jednocześnie\n",
    "\n",
    "def task_with_mutex(id):\n",
    "    global counter\n",
    "    with mutex:  # Tylko jeden wątek może wejść\n",
    "        print(f\"Wątek {id} (mutex): Zaczynam, counter = {counter}\")\n",
    "        counter += 1\n",
    "        time.sleep(1)  # Symulacja pracy\n",
    "        print(f\"Wątek {id} (mutex): Kończę, counter = {counter}\")\n",
    "\n",
    "def task_with_semaphore(id):\n",
    "    global counter\n",
    "    with semaphore:  # Maksymalnie 2 wątki mogą wejść\n",
    "        print(f\"Wątek {id} (semaphore): Zaczynam, counter = {counter}\")\n",
    "        counter += 1\n",
    "        time.sleep(1)  # Symulacja pracy\n",
    "        print(f\"Wątek {id} (semaphore): Kończę, counter = {counter}\")\n",
    "\n",
    "# Tworzenie wątków\n",
    "threads_mutex = [threading.Thread(target=task_with_mutex, args=(i,)) for i in range(4)]\n",
    "threads_semaphore = [threading.Thread(target=task_with_semaphore, args=(i,)) for i in range(4)]\n",
    "\n",
    "# Uruchomienie wątków z mutexem\n",
    "print(\"Mutex:\")\n",
    "for t in threads_mutex:\n",
    "    t.start()\n",
    "for t in threads_mutex:\n",
    "    t.join()\n",
    "\n",
    "# Reset counter\n",
    "counter = 0\n",
    "\n",
    "# Uruchomienie wątków z semaforem\n",
    "print(\"\\nSemaphore (max 2 wątki):\")\n",
    "for t in threads_semaphore:\n",
    "    t.start()\n",
    "for t in threads_semaphore:\n",
    "    t.join()\n",
    "\n",
    "print(f\"\\nKońcowa wartość counter: {counter}\")"
   ],
   "id": "dd54ecac5c1334c8",
   "outputs": [
    {
     "name": "stdout",
     "output_type": "stream",
     "text": [
      "Mutex:\n",
      "Wątek 0 (mutex): Zaczynam, counter = 0\n",
      "Wątek 0 (mutex): Kończę, counter = 1\n",
      "Wątek 1 (mutex): Zaczynam, counter = 1\n",
      "Wątek 1 (mutex): Kończę, counter = 28\n",
      "Wątek 2 (mutex): Zaczynam, counter = 28\n",
      "Wątek 2 (mutex): Kończę, counter = 12683\n",
      "Wątek 3 (mutex): Zaczynam, counter = 12683\n",
      "Wątek 3 (mutex): Kończę, counter = 12692\n",
      "\n",
      "Semaphore (max 2 wątki):\n",
      "Wątek 0 (semaphore): Zaczynam, counter = 0\n",
      "Wątek 1 (semaphore): Zaczynam, counter = 1\n",
      "Wątek 0 (semaphore): Kończę, counter = 11Wątek 1 (semaphore): Kończę, counter = 11\n",
      "Wątek 2 (semaphore): Zaczynam, counter = 11\n",
      "\n",
      "Wątek 3 (semaphore): Zaczynam, counter = 12\n",
      "Wątek 2 (semaphore): Kończę, counter = 23Wątek 3 (semaphore): Kończę, counter = 23\n",
      "\n",
      "\n",
      "Końcowa wartość counter: 23\n"
     ]
    }
   ],
   "execution_count": 12
  },
  {
   "metadata": {},
   "cell_type": "markdown",
   "source": [
    "### Wyjaśnienie:\n",
    "\n",
    "- **Mutex**: W przykładzie z `mutex` tylko jeden wątek może modyfikować `counter` w danym momencie. Wątki wchodzą sekwencyjnie, co zapobiega race condition, ale spowalnia wykonanie (całość trwa ~4 sekundy dla 4 wątków).\n",
    "- **Semaphore**: Z `semaphore` ustawionym na 2, maksymalnie dwa wątki mogą działać jednocześnie. Dzięki temu wykonanie jest szybsze (~2 sekundy), ale nadal kontrolowane.\n",
    "\n",
    "### Jak uwidocznić:\n",
    "Uruchom kod i zwróć uwagę na czas rozpoczęcia i zakończenia każdej operacji. Bez `mutex` lub `semaphore` wynik `counter` byłby nieprzewidywalny z powodu race condition.\n",
    "\n",
    "### Rozwiązanie:\n",
    "Używaj `Lock` dla wyłącznego dostępu lub `Semaphore`, gdy chcesz ograniczyć liczbę wątków, ale pozwolić na pewną równoległość."
   ],
   "id": "66223befb5c94aa2"
  },
  {
   "metadata": {},
   "cell_type": "markdown",
   "source": [
    "## Blokady i synchronizacja\n",
    "\n",
    "Blokady (locks) są podstawowym narzędziem synchronizacji w wielowątkowości, ale ich niewłaściwe użycie może prowadzić do problemów, takich jak zakleszczenie (deadlock). Synchronizacja pozwala wątkom czekać na siebie lub na określone warunki.\n",
    "\n",
    "Poniższy kod pokazuje użycie `threading.Condition` do synchronizacji wątków, gdzie jeden wątek czeka na sygnał od drugiego przed kontynuacją."
   ],
   "id": "2f20bb431cd31a33"
  },
  {
   "metadata": {},
   "cell_type": "code",
   "outputs": [],
   "execution_count": null,
   "source": [
    "import threading\n",
    "import time\n",
    "\n",
    "# Współdzielony zasób\n",
    "data_ready = False\n",
    "condition = threading.Condition()\n",
    "\n",
    "def producer():\n",
    "    global data_ready\n",
    "    print(\"Producent: Przygotowuję dane...\")\n",
    "    time.sleep(2)  # Symulacja pracy\n",
    "    with condition:\n",
    "        data_ready = True\n",
    "        print(\"Producent: Dane gotowe, powiadamiam konsumenta\")\n",
    "        condition.notify()  # Powiadomienie konsumenta\n",
    "\n",
    "def consumer():\n",
    "    print(\"Konsument: Czekam na dane...\")\n",
    "    with condition:\n",
    "        while not data_ready:\n",
    "            condition.wait()  # Czekanie na powiadomienie\n",
    "        print(\"Konsument: Dane otrzymane!\")\n",
    "\n",
    "# Tworzenie wątków\n",
    "prod = threading.Thread(target=producer)\n",
    "cons = threading.Thread(target=consumer)\n",
    "\n",
    "# Uruchomienie\n",
    "cons.start()\n",
    "prod.start()\n",
    "\n",
    "# Czekanie na zakończenie\n",
    "prod.join()\n",
    "cons.join()"
   ],
   "id": "b9b6382337f78e2"
  },
  {
   "metadata": {},
   "cell_type": "markdown",
   "source": [
    "### Wyjaśnienie:\n",
    "\n",
    "- **Condition**: Obiekt `threading.Condition` pozwala konsumentowi czekać, aż producent przygotuje dane i wyśle sygnał (`notify`). To przykład synchronizacji opartej na warunkach.\n",
    "- Bez `condition`, konsument mógłby próbować użyć danych przed ich przygotowaniem, co prowadziłoby do błędów.\n",
    "\n",
    "### Jak uwidocznić:\n",
    "Usuń `condition.wait()` i sprawdź, co się stanie – konsument może zakończyć się przed producentem, ignorując brak danych.\n",
    "\n",
    "### Rozwiązanie:\n",
    "Używaj `Condition` lub innych mechanizmów synchronizacji (np. `Event`), aby zapewnić, że wątki działają w odpowiedniej kolejności."
   ],
   "id": "73f4a3734846a449"
  },
  {
   "metadata": {},
   "cell_type": "markdown",
   "source": [
    "## Programowanie bezblokujące\n",
    "\n",
    "Programowanie bezblokujące pozwala wątkom lub korutynom kontynuować pracę bez czekania na zakończenie operacji I/O. W Pythonie można to osiągnąć zarówno z `threading` (dla wątków), jak i `asyncio` (dla współbieżności jednowątkowej).\n",
    "\n",
    "Poniższy kod pokazuje podejście bezblokujące z `threading` przy użyciu puli wątków (`ThreadPoolExecutor`) oraz z `asyncio` dla porównania."
   ],
   "id": "a748649f448a0970"
  },
  {
   "metadata": {},
   "cell_type": "code",
   "outputs": [],
   "execution_count": null,
   "source": [
    "import time\n",
    "from concurrent.futures import ThreadPoolExecutor\n",
    "import asyncio\n",
    "\n",
    "# Funkcja symulująca operację I/O\n",
    "def io_task(id):\n",
    "    print(f\"Wątek {id}: Start\")\n",
    "    time.sleep(2)  # Symulacja I/O\n",
    "    print(f\"Wątek {id}: Koniec\")\n",
    "    return id * 2\n",
    "\n",
    "async def async_task(id):\n",
    "    print(f\"Korutyna {id}: Start\")\n",
    "    await asyncio.sleep(2)  # Symulacja I/O\n",
    "    print(f\"Korutyna {id}: Koniec\")\n",
    "    return id * 2\n",
    "\n",
    "# ThreadPoolExecutor (bezblokujące z wątkami)\n",
    "print(\"ThreadPoolExecutor:\")\n",
    "start_time = time.time()\n",
    "with ThreadPoolExecutor(max_workers=3) as executor:\n",
    "    results = executor.map(io_task, [1, 2, 3])\n",
    "print(f\"Wyniki: {list(results)}, Czas: {time.time() - start_time:.2f}s\")\n",
    "\n",
    "# Asyncio (bezblokujące z korutynami)\n",
    "async def async_main():\n",
    "    print(\"\\nAsyncio:\")\n",
    "    start_time = time.time()\n",
    "    results = await asyncio.gather(async_task(1), async_task(2), async_task(3))\n",
    "    print(f\"Wyniki: {results}, Czas: {time.time() - start_time:.2f}s\")\n",
    "\n",
    "# Uruchomienie asyncio w notebooku\n",
    "await async_main()"
   ],
   "id": "97b14580b6d7f0b2"
  },
  {
   "metadata": {},
   "cell_type": "markdown",
   "source": [
    "### Wyjaśnienie:\n",
    "\n",
    "- **ThreadPoolExecutor**: Używa puli wątków do równoległego wykonywania zadań I/O. Wątki nie blokują się nawzajem, a całość trwa ~2 sekundy (dla 3 wątków), zamiast 6 sekund sekwencyjnie.\n",
    "- **Asyncio**: Korutyny działają współbieżnie w jednym wątku, przełączając się podczas `await`. Efekt jest podobny – całość trwa ~2 sekundy.\n",
    "\n",
    "### Jak uwidocznić:\n",
    "Zmniejsz `max_workers` do 1 w `ThreadPoolExecutor` lub uruchom zadania sekwencyjnie w `asyncio` (bez `gather`), aby zobaczyć różnicę w czasie (~6 sekund).\n",
    "\n",
    "### Rozwiązanie:\n",
    "Używaj `ThreadPoolExecutor` dla prostego programowania bezblokującego z wątkami lub `asyncio` dla bardziej skalowalnej współbieżności w jednym wątku."
   ],
   "id": "969b5fc51bbedd9"
  }
 ],
 "metadata": {
  "kernelspec": {
   "display_name": "Python 3",
   "language": "python",
   "name": "python3"
  },
  "language_info": {
   "codemirror_mode": {
    "name": "ipython",
    "version": 2
   },
   "file_extension": ".py",
   "mimetype": "text/x-python",
   "name": "python",
   "nbconvert_exporter": "python",
   "pygments_lexer": "ipython2",
   "version": "2.7.6"
  }
 },
 "nbformat": 4,
 "nbformat_minor": 5
}
